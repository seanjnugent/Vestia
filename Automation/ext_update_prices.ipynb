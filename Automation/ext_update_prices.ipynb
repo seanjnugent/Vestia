{
 "cells": [
  {
   "cell_type": "code",
   "execution_count": null,
   "metadata": {
    "vscode": {
     "languageId": "plaintext"
    }
   },
   "outputs": [],
   "source": [
    "import config.setting\n",
    "import yfinance as yf\n",
    "import pandas as pd\n",
    "from sqlalchemy import create_engine, text\n",
    "\n",
    "# Database connection setup\n",
    "db_url = f\"postgresql+psycopg2://{config.setting.db_user}:{config.setting.db_password}@{config.setting.db_host}/{config.setting.db_name}\"\n",
    "engine = create_engine(db_url)\n",
    "\n",
    "# Fetch symbols from the Asset table in PostgreSQL\n",
    "symbols = []\n",
    "with engine.connect() as conn:\n",
    "    result = conn.execute(text(\"SELECT AssetCode FROM Asset\"))\n",
    "    symbols = [row['AssetCode'] for row in result]\n",
    "\n",
    "# Fetch and process data for each symbol\n",
    "all_data = []\n",
    "\n",
    "for symbol in symbols:\n",
    "    try:\n",
    "        df = yf.download(tickers=symbol, period=\"5d\", interval=\"1d\")\n",
    "        if df.empty:\n",
    "            print(f\"No data for symbol: {symbol}\")\n",
    "            continue\n",
    "\n",
    "        df['Symbol'] = symbol\n",
    "        df.rename(columns={'Adj Close': 'Adj_Close'}, inplace=True)\n",
    "        df = df.round(2)\n",
    "        df.reset_index(level=0, inplace=True)\n",
    "        all_data.append(df)\n",
    "    except Exception as e:\n",
    "        print(f\"Error fetching data for {symbol}: {e}\")\n",
    "\n",
    "# Combine all data into a single DataFrame\n",
    "if all_data:\n",
    "    combined_df = pd.concat(all_data, ignore_index=True)\n",
    "\n",
    "    # Insert data into pricestaging table\n",
    "    table_name = 'pricestaging'\n",
    "    combined_df.to_sql(name=table_name, con=engine, if_exists='append', index=False)\n",
    "\n",
    "    # Execute stored procedure to insert new prices\n",
    "    with engine.begin() as conn:\n",
    "        conn.execute(text(\"CALL spInsertNewPrices();\"))\n",
    "\n",
    "print(\"Data fetch and insertion complete.\")"
   ]
  }
 ],
 "metadata": {
  "language_info": {
   "name": "python"
  }
 },
 "nbformat": 4,
 "nbformat_minor": 2
}
