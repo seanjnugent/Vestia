{
 "cells": [
  {
   "cell_type": "code",
   "execution_count": 2,
   "metadata": {},
   "outputs": [
    {
     "name": "stdout",
     "output_type": "stream",
     "text": [
      "Inserted 13 accounts into the account table.\n"
     ]
    }
   ],
   "source": [
    "import random\n",
    "from faker import Faker\n",
    "from sqlalchemy import create_engine, text\n",
    "from dotenv import load_dotenv\n",
    "import os\n",
    "from datetime import datetime, timedelta\n",
    "\n",
    "# Load environment variables\n",
    "load_dotenv()\n",
    "\n",
    "# Database connection setup\n",
    "db_user = os.getenv(\"DB_USER\")\n",
    "db_password = os.getenv(\"DB_PASSWORD\")\n",
    "db_host = os.getenv(\"DB_HOST\")\n",
    "db_name = os.getenv(\"DB_NAME\")\n",
    "\n",
    "db_url = f\"postgresql+psycopg2://{db_user}:{db_password}@{db_host}/{db_name}\"\n",
    "engine = create_engine(db_url)\n",
    "faker = Faker()\n",
    "\n",
    "# Fetch client IDs\n",
    "with engine.connect() as conn:\n",
    "    result = conn.execute(text(\"SELECT clientid FROM public.client where clientid not in (select clientid from public.account) ORDER BY RANDOM() DESC limit 10\"))\n",
    "    client_ids = [row[0] for row in result]\n",
    "\n",
    "# Define function to get a random date within the past year\n",
    "def random_date_within_last_year():\n",
    "    today = datetime.now()\n",
    "    random_days = timedelta(days=random.randint(1, 365))\n",
    "    return today - random_days\n",
    "\n",
    "# Account type and naming template\n",
    "account_type = \"investmentAccount\"\n",
    "account_name_template = \"Investment Account {}\"\n",
    "\n",
    "# Generate account data for each client\n",
    "accounts_data = []\n",
    "\n",
    "for clientid in client_ids:\n",
    "    # Determine how many accounts to create for this client\n",
    "    account_count = random.choices([1, 2, 3], weights=[0.85, 0.10, 0.05])[0]\n",
    "    \n",
    "    for i in range(account_count):\n",
    "        account_data = {\n",
    "            \"clientid\": clientid,\n",
    "            \"accounttype\": account_type,\n",
    "            \"accountname\": account_name_template.format(i + 1),\n",
    "            \"datecreated\": random_date_within_last_year(),\n",
    "            \"dateupdated\": datetime.now()\n",
    "        }\n",
    "        accounts_data.append(account_data)\n",
    "\n",
    "# Insert generated data into the account table\n",
    "with engine.begin() as conn:\n",
    "    for account in accounts_data:\n",
    "        query = text(\"\"\"\n",
    "            INSERT INTO account (clientid, accounttype, accountname, datecreated, dateupdated)\n",
    "            VALUES (:clientid, :accounttype, :accountname, :datecreated, :dateupdated)\n",
    "        \"\"\")\n",
    "        conn.execute(query, account)\n",
    "\n",
    "print(f\"Inserted {len(accounts_data)} accounts into the account table.\")\n"
   ]
  }
 ],
 "metadata": {
  "kernelspec": {
   "display_name": "Python 3",
   "language": "python",
   "name": "python3"
  },
  "language_info": {
   "codemirror_mode": {
    "name": "ipython",
    "version": 3
   },
   "file_extension": ".py",
   "mimetype": "text/x-python",
   "name": "python",
   "nbconvert_exporter": "python",
   "pygments_lexer": "ipython3",
   "version": "3.11.9"
  }
 },
 "nbformat": 4,
 "nbformat_minor": 2
}
